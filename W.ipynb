{
 "cells": [
  {
   "cell_type": "code",
   "execution_count": 4,
   "metadata": {},
   "outputs": [
    {
     "ename": "AttributeError",
     "evalue": "'WriteSRT' object has no attribute 'writer'",
     "output_type": "error",
     "traceback": [
      "\u001b[0;31m---------------------------------------------------------------------------\u001b[0m",
      "\u001b[0;31mAttributeError\u001b[0m                            Traceback (most recent call last)",
      "Cell \u001b[0;32mIn[4], line 16\u001b[0m\n\u001b[1;32m     13\u001b[0m \u001b[39m#srt_writer(result, audio)\u001b[39;00m\n\u001b[1;32m     14\u001b[0m \u001b[39m#srt_writer.write_result(result, audio)\u001b[39;00m\n\u001b[1;32m     15\u001b[0m \u001b[39mwith\u001b[39;00m \u001b[39mopen\u001b[39m(\u001b[39m\"\u001b[39m\u001b[39moutput.srt\u001b[39m\u001b[39m\"\u001b[39m, \u001b[39m\"\u001b[39m\u001b[39mw\u001b[39m\u001b[39m\"\u001b[39m) \u001b[39mas\u001b[39;00m output_file:\n\u001b[0;32m---> 16\u001b[0m     srt_writer\u001b[39m.\u001b[39;49mwriter(result, output_file)\n",
      "\u001b[0;31mAttributeError\u001b[0m: 'WriteSRT' object has no attribute 'writer'"
     ]
    }
   ],
   "source": [
    "import whisper\n",
    "from whisper.utils import get_writer\n",
    "\n",
    "\n",
    "model = whisper.load_model(\"base\")\n",
    "audio = \"m-5.mp3\"\n",
    "result = model.transcribe(audio,fp16=False)\n",
    "output_directory = \".\"\n",
    "\n",
    "\n",
    "# Save as an SRT file\n",
    "srt_writer = get_writer(\"srt\", output_directory)\n",
    "#srt_writer(result, audio)\n",
    "#srt_writer.write_result(result, audio)\n",
    "with open(\"output.srt\", \"w\") as output_file:\n",
    "    srt_writer.writer(result, output_file)"
   ]
  },
  {
   "cell_type": "code",
   "execution_count": null,
   "metadata": {},
   "outputs": [],
   "source": [
    "import whisper\n",
    "\n",
    "model = whisper.load_model(\"base\")\n",
    "audio = \"m-5.mp3\"\n",
    "result = model.transcribe(audio,fp16=False)\n",
    "\n",
    "with open(\"transcription.txt\", \"w\", encoding=\"utf-8\") as txt:\n",
    "    txt.write(result[\"text\"])"
   ]
  }
 ],
 "metadata": {
  "kernelspec": {
   "display_name": "Python 3",
   "language": "python",
   "name": "python3"
  },
  "language_info": {
   "codemirror_mode": {
    "name": "ipython",
    "version": 3
   },
   "file_extension": ".py",
   "mimetype": "text/x-python",
   "name": "python",
   "nbconvert_exporter": "python",
   "pygments_lexer": "ipython3",
   "version": "3.10.12"
  },
  "orig_nbformat": 4
 },
 "nbformat": 4,
 "nbformat_minor": 2
}
