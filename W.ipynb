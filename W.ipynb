{
 "cells": [
  {
   "cell_type": "code",
   "execution_count": 4,
   "metadata": {},
   "outputs": [
    {
     "name": "stderr",
     "output_type": "stream",
     "text": [
      "100%|████████████████████████████████████████| 139M/139M [00:01<00:00, 110MiB/s]\n",
      "/home/vscode/.local/lib/python3.10/site-packages/whisper/transcribe.py:114: UserWarning: FP16 is not supported on CPU; using FP32 instead\n",
      "  warnings.warn(\"FP16 is not supported on CPU; using FP32 instead\")\n"
     ]
    },
    {
     "ename": "TypeError",
     "evalue": "ResultWriter.__call__() missing 1 required positional argument: 'options'",
     "output_type": "error",
     "traceback": [
      "\u001b[0;31m---------------------------------------------------------------------------\u001b[0m",
      "\u001b[0;31mTypeError\u001b[0m                                 Traceback (most recent call last)",
      "Cell \u001b[0;32mIn[4], line 13\u001b[0m\n\u001b[1;32m     11\u001b[0m \u001b[39m# Save as an SRT file\u001b[39;00m\n\u001b[1;32m     12\u001b[0m srt_writer \u001b[39m=\u001b[39m get_writer(\u001b[39m\"\u001b[39m\u001b[39msrt\u001b[39m\u001b[39m\"\u001b[39m, output_directory)\n\u001b[0;32m---> 13\u001b[0m srt_writer(result, audio)\n",
      "\u001b[0;31mTypeError\u001b[0m: ResultWriter.__call__() missing 1 required positional argument: 'options'"
     ]
    }
   ],
   "source": [
    "import whisper\n",
    "from whisper.utils import get_writer\n",
    "\n",
    "\n",
    "model = whisper.load_model(\"base\")\n",
    "audio = \"m-5.mp3\"\n",
    "result = model.transcribe(audio)\n",
    "output_directory = \".\"\n",
    "\n",
    "\n",
    "# Save as an SRT file\n",
    "srt_writer = get_writer(\"srt\", output_directory)\n",
    "srt_writer(result, audio)\n"
   ]
  }
 ],
 "metadata": {
  "kernelspec": {
   "display_name": "Python 3",
   "language": "python",
   "name": "python3"
  },
  "language_info": {
   "codemirror_mode": {
    "name": "ipython",
    "version": 3
   },
   "file_extension": ".py",
   "mimetype": "text/x-python",
   "name": "python",
   "nbconvert_exporter": "python",
   "pygments_lexer": "ipython3",
   "version": "3.10.12"
  },
  "orig_nbformat": 4
 },
 "nbformat": 4,
 "nbformat_minor": 2
}
